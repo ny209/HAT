{
 "cells": [
  {
   "cell_type": "code",
   "execution_count": 2,
   "metadata": {},
   "outputs": [],
   "source": [
    "import rasterio as rio, numpy as np\n"
   ]
  },
  {
   "cell_type": "code",
   "execution_count": 9,
   "metadata": {},
   "outputs": [
    {
     "name": "stdout",
     "output_type": "stream",
     "text": [
      "corr R-G 0.9870873351927273 G-B 0.9843006649505859 R-B 0.9758429894108454\n"
     ]
    }
   ],
   "source": [
    "with rio.open('./HAT/datasets/WV3/WV3_test_LR_linear/3band/050258288120_000_Patch_WV3_ps_x4.tif') as src:\n",
    "    a = src.read([1,2,3]).astype(np.float32)  # 너의 3band가 실제 RGB인지 점검\n",
    "    a = a.reshape(3,-1)\n",
    "    print('corr R-G', np.corrcoef(a[0],a[1])[0,1],\n",
    "          'G-B', np.corrcoef(a[1],a[2])[0,1],\n",
    "          'R-B', np.corrcoef(a[0],a[2])[0,1])\n",
    "# 모두 ~0.99 이상이면 사실상 동일 채널 -> 밴드 선택/정규화 파이프라인 점검\n"
   ]
  },
  {
   "cell_type": "code",
   "execution_count": 24,
   "metadata": {},
   "outputs": [
    {
     "name": "stdout",
     "output_type": "stream",
     "text": [
      "bands: 3 size: (128, 128)\n",
      "descriptions: ('WV3_B05 (Red)', 'WV3_B03 (Green)', 'WV3_B02 (Blue)')\n",
      "colorinterp: (<ColorInterp.red: 3>, <ColorInterp.green: 4>, <ColorInterp.blue: 5>)\n",
      "per-channel stats:\n",
      " Band1: min=9.0, max=255.0, q1=14.0, q99=181.0, std=31.1\n",
      " Band2: min=17.0, max=255.0, q1=25.0, q99=175.2, std=27.2\n",
      " Band3: min=14.0, max=216.0, q1=20.0, q99=161.0, std=23.6\n",
      " corr Band1-Band2: 0.987068\n",
      " corr Band2-Band3: 0.984304\n",
      " corr Band1-Band3: 0.977245\n"
     ]
    }
   ],
   "source": [
    "import rasterio as rio\n",
    "import numpy as np\n",
    "\n",
    "p = \"./HAT/datasets/WV3/WV3_test_LR_linear/3band_u8/050258288120_000_Patch_WV3_ps_x4.tif\"\n",
    "# p = \"./HAT/datasets/WV3/WV3_test_HR/3band/050258288120_000_Patch_WV3_ps.tif\"\n",
    "\n",
    "with rio.open(p) as src:\n",
    "    print(\"bands:\", src.count, \"size:\", (src.height, src.width))\n",
    "    print(\"descriptions:\", src.descriptions)          # 밴드 설명(있을 경우)\n",
    "    print(\"colorinterp:\", src.colorinterp)            # RGB 태그 여부\n",
    "    arr = src.read()                                  # (C,H,W)\n",
    "    print(\"per-channel stats:\")\n",
    "    for i in range(src.count):\n",
    "        a = arr[i].astype(np.float32)\n",
    "        q1, q99 = np.percentile(a, [1,99])\n",
    "        print(f\" Band{i+1}: min={a.min():.1f}, max={a.max():.1f}, q1={q1:.1f}, q99={q99:.1f}, std={a.std():.1f}\")\n",
    "    # 채널 간 상관\n",
    "    c = arr.reshape(arr.shape[0], -1).astype(np.float32)\n",
    "    for (i,j) in [(0,1),(1,2),(0,2)]:\n",
    "        r = np.corrcoef(c[i], c[j])[0,1]\n",
    "        print(f\" corr Band{i+1}-Band{j+1}: {r:.6f}\")\n"
   ]
  },
  {
   "cell_type": "code",
   "execution_count": 20,
   "metadata": {},
   "outputs": [
    {
     "name": "stdout",
     "output_type": "stream",
     "text": [
      "bands: 3 size: (128, 128)\n",
      "descriptions: ('WV3_B05 (Red)', 'WV3_B03 (Green)', 'WV3_B02 (Blue)')\n",
      "colorinterp: (<ColorInterp.red: 3>, <ColorInterp.green: 4>, <ColorInterp.blue: 5>)\n",
      "per-channel stats:\n",
      " Band1: min=2763.0, max=55886.0, q1=3177.8, q99=19733.8, std=3184.5\n",
      " Band2: min=2843.0, max=46040.0, q1=3234.0, q99=18328.4, std=2793.7\n",
      " Band3: min=2737.0, max=44728.0, q1=3061.5, q99=16094.9, std=2426.2\n",
      " corr Band1-Band2: 0.965869\n",
      " corr Band2-Band3: 0.984882\n",
      " corr Band1-Band3: 0.930966\n"
     ]
    }
   ],
   "source": [
    "import rasterio as rio\n",
    "import numpy as np\n",
    "\n",
    "# p = \"./HAT/datasets/WV3/WV3_test_LR_linear/3band/050258288120_000_Patch_WV3_ps_x4.tif\"\n",
    "p = \"./HAT/datasets/WV3/WV3_train_LR_linear/3band_u16/x4/050258288070_326_Patch_WV3_ps_x4.tif\"\n",
    "\n",
    "# p = \"./HAT/datasets/WV3/WV3_test_LR_linear/3band/050258288120_000_Patch_WV3_ps_x4.tif\"\n",
    "\n",
    "with rio.open(p) as src:\n",
    "    print(\"bands:\", src.count, \"size:\", (src.height, src.width))\n",
    "    print(\"descriptions:\", src.descriptions)          # 밴드 설명\n",
    "    print(\"colorinterp:\", src.colorinterp)            # RGB 태그 여부\n",
    "    arr = src.read()                                  # (C,H,W)\n",
    "    print(\"per-channel stats:\")\n",
    "    for i in range(src.count):\n",
    "        a = arr[i].astype(np.float32)\n",
    "        q1, q99 = np.percentile(a, [1,99])\n",
    "        print(f\" Band{i+1}: min={a.min():.1f}, max={a.max():.1f}, q1={q1:.1f}, q99={q99:.1f}, std={a.std():.1f}\")\n",
    "    # 채널 간 상관\n",
    "    c = arr.reshape(arr.shape[0], -1).astype(np.float32)\n",
    "    for (i,j) in [(0,1),(1,2),(0,2)]:\n",
    "        r = np.corrcoef(c[i], c[j])[0,1]\n",
    "        print(f\" corr Band{i+1}-Band{j+1}: {r:.6f}\")\n"
   ]
  },
  {
   "cell_type": "code",
   "execution_count": 1,
   "metadata": {},
   "outputs": [
    {
     "name": "stdout",
     "output_type": "stream",
     "text": [
      "\n",
      "=== [fc] ===\n",
      "[fc/train] HR=11,820  LR=11,820\n",
      " - OK: HR/LR 키 집합 일치(샘플 페어링 정상)\n",
      " - 참고: 파일명은 다를 수 있음(예: LR에 '_x4'), 키 기준으로 비교 중\n",
      "[fc/valid] HR=1,477  LR=1,477\n",
      " - OK: HR/LR 키 집합 일치(샘플 페어링 정상)\n",
      " - 참고: 파일명은 다를 수 있음(예: LR에 '_x4'), 키 기준으로 비교 중\n",
      "[fc/test] HR=1,479  LR=1,479\n",
      " - OK: HR/LR 키 집합 일치(샘플 페어링 정상)\n",
      " - 참고: 파일명은 다를 수 있음(예: LR에 '_x4'), 키 기준으로 비교 중\n",
      "[fc] 합계: HR=14,776  LR=14,776\n",
      "\n",
      "=== [rgb] ===\n",
      "[rgb/train] HR=11,820  LR=11,820\n",
      " - OK: HR/LR 키 집합 일치(샘플 페어링 정상)\n",
      " - 참고: 파일명은 다를 수 있음(예: LR에 '_x4'), 키 기준으로 비교 중\n",
      "[rgb/valid] HR=1,477  LR=1,477\n",
      " - OK: HR/LR 키 집합 일치(샘플 페어링 정상)\n",
      " - 참고: 파일명은 다를 수 있음(예: LR에 '_x4'), 키 기준으로 비교 중\n",
      "[rgb/test] HR=1,479  LR=1,479\n",
      " - OK: HR/LR 키 집합 일치(샘플 페어링 정상)\n",
      " - 참고: 파일명은 다를 수 있음(예: LR에 '_x4'), 키 기준으로 비교 중\n",
      "[rgb] 합계: HR=14,776  LR=14,776\n"
     ]
    }
   ],
   "source": [
    "from pathlib import Path\n",
    "from collections import Counter\n",
    "\n",
    "BASE = Path(\"/home/nayeon/SR/HAT/HAT/datasets/WV3\")\n",
    "VARIANTS = [\"fc\", \"rgb\"]              # 검사할 변형\n",
    "SPLITS   = [\"train\", \"valid\", \"test\"] # 분할\n",
    "\n",
    "def extract_key(p: Path) -> str:\n",
    "    \"\"\"파일명에서 '_Patch' 앞까지를 공통 키로 추출.\"\"\"\n",
    "    return p.stem.split(\"_Patch\", 1)[0]\n",
    "\n",
    "def list_tifs(dirpath: Path):\n",
    "    files = sorted(dirpath.glob(\"*.tif\"))\n",
    "    keys  = {extract_key(p) for p in files}\n",
    "    names = {p.name for p in files}\n",
    "    return files, keys, names\n",
    "\n",
    "for var in VARIANTS:\n",
    "    print(f\"\\n=== [{var}] ===\")\n",
    "    total_hr = total_lr = 0\n",
    "    for split in SPLITS:\n",
    "        hr_dir = BASE / var / \"HR\" / split\n",
    "        lr_dir = BASE / var / \"LR\" / split\n",
    "\n",
    "        hr_files, hr_keys, hr_names = list_tifs(hr_dir)\n",
    "        lr_files, lr_keys, lr_names = list_tifs(lr_dir)\n",
    "\n",
    "        # 개수 출력\n",
    "        print(f\"[{var}/{split}] HR={len(hr_files):,}  LR={len(lr_files):,}\")\n",
    "        total_hr += len(hr_files)\n",
    "        total_lr += len(lr_files)\n",
    "\n",
    "        # 키 기준 동등성 검사 (가장 중요)\n",
    "        only_hr = hr_keys - lr_keys\n",
    "        only_lr = lr_keys - hr_keys\n",
    "        if not only_hr and not only_lr:\n",
    "            print(\" - OK: HR/LR 키 집합 일치(샘플 페어링 정상)\")\n",
    "        else:\n",
    "            print(f\" - HR에만 있는 키: {len(only_hr)}개\")\n",
    "            print(f\" - LR에만 있는 키: {len(only_lr)}개\")\n",
    "            for i, k in enumerate(sorted(list(only_hr))[:5], 1):\n",
    "                print(f\"   * only HR (예시 {i}): {k}\")\n",
    "            for i, k in enumerate(sorted(list(only_lr))[:5], 1):\n",
    "                print(f\"   * only LR (예시 {i}): {k}\")\n",
    "\n",
    "        # (옵션) 파일명까지 완전 동일한지 확인 — LR이 _x4 등 접미사 다르면 불일치가 정상\n",
    "        if hr_names == lr_names:\n",
    "            print(\" - 참고: 파일명(확장자 포함)도 HR/LR 완전히 동일\")\n",
    "        else:\n",
    "            print(\" - 참고: 파일명은 다를 수 있음(예: LR에 '_x4'), 키 기준으로 비교 중\")\n",
    "\n",
    "        # (옵션) 중복 키 경고\n",
    "        hr_dup = [k for k, c in Counter([extract_key(p) for p in hr_files]).items() if c > 1]\n",
    "        lr_dup = [k for k, c in Counter([extract_key(p) for p in lr_files]).items() if c > 1]\n",
    "        if hr_dup:\n",
    "            print(f\" - [WARN] HR/{split} 중복 키 {len(hr_dup)}개 (예: {hr_dup[:5]})\")\n",
    "        if lr_dup:\n",
    "            print(f\" - [WARN] LR/{split} 중복 키 {len(lr_dup)}개 (예: {lr_dup[:5]})\")\n",
    "\n",
    "    print(f\"[{var}] 합계: HR={total_hr:,}  LR={total_lr:,}\")\n"
   ]
  }
 ],
 "metadata": {
  "kernelspec": {
   "display_name": "eosar",
   "language": "python",
   "name": "python3"
  },
  "language_info": {
   "codemirror_mode": {
    "name": "ipython",
    "version": 3
   },
   "file_extension": ".py",
   "mimetype": "text/x-python",
   "name": "python",
   "nbconvert_exporter": "python",
   "pygments_lexer": "ipython3",
   "version": "3.10.16"
  }
 },
 "nbformat": 4,
 "nbformat_minor": 2
}
