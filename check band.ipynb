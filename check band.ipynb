{
 "cells": [
  {
   "cell_type": "code",
   "execution_count": 2,
   "metadata": {},
   "outputs": [],
   "source": [
    "import rasterio as rio, numpy as np\n"
   ]
  },
  {
   "cell_type": "code",
   "execution_count": 9,
   "metadata": {},
   "outputs": [
    {
     "name": "stdout",
     "output_type": "stream",
     "text": [
      "corr R-G 0.9870873351927273 G-B 0.9843006649505859 R-B 0.9758429894108454\n"
     ]
    }
   ],
   "source": [
    "with rio.open('./HAT/datasets/WV3/WV3_test_LR_linear/3band/050258288120_000_Patch_WV3_ps_x4.tif') as src:\n",
    "    a = src.read([1,2,3]).astype(np.float32)  # 너의 3band가 실제 RGB인지 점검\n",
    "    a = a.reshape(3,-1)\n",
    "    print('corr R-G', np.corrcoef(a[0],a[1])[0,1],\n",
    "          'G-B', np.corrcoef(a[1],a[2])[0,1],\n",
    "          'R-B', np.corrcoef(a[0],a[2])[0,1])\n",
    "# 모두 ~0.99 이상이면 사실상 동일 채널 -> 밴드 선택/정규화 파이프라인 점검\n"
   ]
  },
  {
   "cell_type": "code",
   "execution_count": 24,
   "metadata": {},
   "outputs": [
    {
     "name": "stdout",
     "output_type": "stream",
     "text": [
      "bands: 3 size: (128, 128)\n",
      "descriptions: ('WV3_B05 (Red)', 'WV3_B03 (Green)', 'WV3_B02 (Blue)')\n",
      "colorinterp: (<ColorInterp.red: 3>, <ColorInterp.green: 4>, <ColorInterp.blue: 5>)\n",
      "per-channel stats:\n",
      " Band1: min=9.0, max=255.0, q1=14.0, q99=181.0, std=31.1\n",
      " Band2: min=17.0, max=255.0, q1=25.0, q99=175.2, std=27.2\n",
      " Band3: min=14.0, max=216.0, q1=20.0, q99=161.0, std=23.6\n",
      " corr Band1-Band2: 0.987068\n",
      " corr Band2-Band3: 0.984304\n",
      " corr Band1-Band3: 0.977245\n"
     ]
    }
   ],
   "source": [
    "import rasterio as rio\n",
    "import numpy as np\n",
    "\n",
    "p = \"./HAT/datasets/WV3/WV3_test_LR_linear/3band_u8/050258288120_000_Patch_WV3_ps_x4.tif\"\n",
    "# p = \"./HAT/datasets/WV3/WV3_test_HR/3band/050258288120_000_Patch_WV3_ps.tif\"\n",
    "\n",
    "with rio.open(p) as src:\n",
    "    print(\"bands:\", src.count, \"size:\", (src.height, src.width))\n",
    "    print(\"descriptions:\", src.descriptions)          # 밴드 설명(있을 경우)\n",
    "    print(\"colorinterp:\", src.colorinterp)            # RGB 태그 여부\n",
    "    arr = src.read()                                  # (C,H,W)\n",
    "    print(\"per-channel stats:\")\n",
    "    for i in range(src.count):\n",
    "        a = arr[i].astype(np.float32)\n",
    "        q1, q99 = np.percentile(a, [1,99])\n",
    "        print(f\" Band{i+1}: min={a.min():.1f}, max={a.max():.1f}, q1={q1:.1f}, q99={q99:.1f}, std={a.std():.1f}\")\n",
    "    # 채널 간 상관\n",
    "    c = arr.reshape(arr.shape[0], -1).astype(np.float32)\n",
    "    for (i,j) in [(0,1),(1,2),(0,2)]:\n",
    "        r = np.corrcoef(c[i], c[j])[0,1]\n",
    "        print(f\" corr Band{i+1}-Band{j+1}: {r:.6f}\")\n"
   ]
  },
  {
   "cell_type": "code",
   "execution_count": 20,
   "metadata": {},
   "outputs": [
    {
     "name": "stdout",
     "output_type": "stream",
     "text": [
      "bands: 3 size: (128, 128)\n",
      "descriptions: ('WV3_B05 (Red)', 'WV3_B03 (Green)', 'WV3_B02 (Blue)')\n",
      "colorinterp: (<ColorInterp.red: 3>, <ColorInterp.green: 4>, <ColorInterp.blue: 5>)\n",
      "per-channel stats:\n",
      " Band1: min=2763.0, max=55886.0, q1=3177.8, q99=19733.8, std=3184.5\n",
      " Band2: min=2843.0, max=46040.0, q1=3234.0, q99=18328.4, std=2793.7\n",
      " Band3: min=2737.0, max=44728.0, q1=3061.5, q99=16094.9, std=2426.2\n",
      " corr Band1-Band2: 0.965869\n",
      " corr Band2-Band3: 0.984882\n",
      " corr Band1-Band3: 0.930966\n"
     ]
    }
   ],
   "source": [
    "import rasterio as rio\n",
    "import numpy as np\n",
    "\n",
    "# p = \"./HAT/datasets/WV3/WV3_test_LR_linear/3band/050258288120_000_Patch_WV3_ps_x4.tif\"\n",
    "p = \"./HAT/datasets/WV3/WV3_train_LR_linear/3band_u16/x4/050258288070_326_Patch_WV3_ps_x4.tif\"\n",
    "\n",
    "# p = \"./HAT/datasets/WV3/WV3_test_LR_linear/3band/050258288120_000_Patch_WV3_ps_x4.tif\"\n",
    "\n",
    "with rio.open(p) as src:\n",
    "    print(\"bands:\", src.count, \"size:\", (src.height, src.width))\n",
    "    print(\"descriptions:\", src.descriptions)          # 밴드 설명\n",
    "    print(\"colorinterp:\", src.colorinterp)            # RGB 태그 여부\n",
    "    arr = src.read()                                  # (C,H,W)\n",
    "    print(\"per-channel stats:\")\n",
    "    for i in range(src.count):\n",
    "        a = arr[i].astype(np.float32)\n",
    "        q1, q99 = np.percentile(a, [1,99])\n",
    "        print(f\" Band{i+1}: min={a.min():.1f}, max={a.max():.1f}, q1={q1:.1f}, q99={q99:.1f}, std={a.std():.1f}\")\n",
    "    # 채널 간 상관\n",
    "    c = arr.reshape(arr.shape[0], -1).astype(np.float32)\n",
    "    for (i,j) in [(0,1),(1,2),(0,2)]:\n",
    "        r = np.corrcoef(c[i], c[j])[0,1]\n",
    "        print(f\" corr Band{i+1}-Band{j+1}: {r:.6f}\")\n"
   ]
  },
  {
   "cell_type": "code",
   "execution_count": 22,
   "metadata": {},
   "outputs": [
    {
     "ename": "AttributeError",
     "evalue": "'str' object has no attribute 'shape'",
     "output_type": "error",
     "traceback": [
      "\u001b[0;31m---------------------------------------------------------------------------\u001b[0m",
      "\u001b[0;31mAttributeError\u001b[0m                            Traceback (most recent call last)",
      "Cell \u001b[0;32mIn[22], line 2\u001b[0m\n\u001b[1;32m      1\u001b[0m img \u001b[38;5;241m=\u001b[39m \u001b[38;5;124m\"\u001b[39m\u001b[38;5;124m./HAT/results/HAT_SRx4/visualization/WV3/050258288120_000_Patch_WV3_ps_x4_HAT_SRx4.png\u001b[39m\u001b[38;5;124m\"\u001b[39m\n\u001b[0;32m----> 2\u001b[0m \u001b[38;5;28mprint\u001b[39m(\u001b[43mimg\u001b[49m\u001b[38;5;241;43m.\u001b[39;49m\u001b[43mshape\u001b[49m, img\u001b[38;5;241m.\u001b[39mdtype, img\u001b[38;5;241m.\u001b[39mmin(), img\u001b[38;5;241m.\u001b[39mmax())\n",
      "\u001b[0;31mAttributeError\u001b[0m: 'str' object has no attribute 'shape'"
     ]
    }
   ],
   "source": [
    "\n",
    "img = \"./HAT/results/HAT_SRx4/visualization/WV3/050258288120_000_Patch_WV3_ps_x4_HAT_SRx4.png\"\n",
    "print(img.shape, img.dtype, img.min(), img.max())"
   ]
  }
 ],
 "metadata": {
  "kernelspec": {
   "display_name": "eosar",
   "language": "python",
   "name": "python3"
  },
  "language_info": {
   "codemirror_mode": {
    "name": "ipython",
    "version": 3
   },
   "file_extension": ".py",
   "mimetype": "text/x-python",
   "name": "python",
   "nbconvert_exporter": "python",
   "pygments_lexer": "ipython3",
   "version": "3.10.16"
  }
 },
 "nbformat": 4,
 "nbformat_minor": 2
}
